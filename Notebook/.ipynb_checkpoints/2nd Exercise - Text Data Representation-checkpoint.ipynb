{
 "cells": [
  {
   "cell_type": "markdown",
   "id": "bb3920fd",
   "metadata": {},
   "source": [
    "## 2nd Exercise \n",
    "\n",
    "In this exercise you need to perform data preprocessing using the news articles dataset provided in the data folder\n",
    "\n",
    "Use the clean data you have developed from the First Exercise"
   ]
  },
  {
   "cell_type": "code",
   "execution_count": null,
   "id": "148a6b77",
   "metadata": {
    "ExecuteTime": {
     "end_time": "2023-05-26T06:41:36.522554Z",
     "start_time": "2023-05-26T06:41:34.376264Z"
    }
   },
   "outputs": [],
   "source": [
    "# Import packages\n",
    "import numpy as np\n",
    "import pandas as pd \n",
    "\n",
    "from sklearn.feature_extraction.text import TfidfVectorizer, CountVectorizer\n",
    "\n",
    "import warnings\n",
    "\n",
    "warnings.filterwarnings(\"ignore\")\n",
    "# seeding\n",
    "np.random.seed(123)"
   ]
  },
  {
   "cell_type": "code",
   "execution_count": null,
   "id": "10f086ca",
   "metadata": {
    "ExecuteTime": {
     "end_time": "2023-05-25T20:26:40.482059Z",
     "start_time": "2023-05-25T20:26:40.392760Z"
    }
   },
   "outputs": [],
   "source": [
    "# load data using pandas \n"
   ]
  },
  {
   "cell_type": "code",
   "execution_count": null,
   "id": "977c9293",
   "metadata": {
    "ExecuteTime": {
     "end_time": "2023-05-25T20:26:40.525986Z",
     "start_time": "2023-05-25T20:26:40.485173Z"
    }
   },
   "outputs": [],
   "source": [
    "# show sample of the data using head method from pandas \n"
   ]
  },
  {
   "cell_type": "markdown",
   "id": "6b6ed317",
   "metadata": {},
   "source": [
    "### Implement CountVectorizer method in the News Articles  Dataset"
   ]
  },
  {
   "cell_type": "code",
   "execution_count": null,
   "id": "99d16e78",
   "metadata": {
    "ExecuteTime": {
     "end_time": "2023-05-25T20:26:40.688614Z",
     "start_time": "2023-05-25T20:26:40.534251Z"
    }
   },
   "outputs": [],
   "source": [
    "# Instatiate the CountVectorizer from scikitlearn\n",
    "\n",
    "\n",
    "# fit and transform the data with count vectorizer\n"
   ]
  },
  {
   "cell_type": "code",
   "execution_count": null,
   "id": "d777a9f1",
   "metadata": {
    "ExecuteTime": {
     "end_time": "2023-05-25T20:26:40.695869Z",
     "start_time": "2023-05-25T20:26:40.690706Z"
    }
   },
   "outputs": [],
   "source": [
    "# show the transformed data (the first 10 rows in array)\n",
    "\n"
   ]
  },
  {
   "cell_type": "code",
   "execution_count": null,
   "id": "486c8633",
   "metadata": {
    "ExecuteTime": {
     "end_time": "2023-05-25T20:26:40.806873Z",
     "start_time": "2023-05-25T20:26:40.697997Z"
    }
   },
   "outputs": [],
   "source": [
    "# Collect the features names\n",
    "\n",
    "\n",
    "# create dataframe for the transformed data using pandas\n",
    "\n",
    "\n",
    "# show top 5 rows using head method from pandas\n"
   ]
  },
  {
   "cell_type": "code",
   "execution_count": null,
   "id": "56806f96",
   "metadata": {
    "ExecuteTime": {
     "end_time": "2023-05-25T20:26:40.814177Z",
     "start_time": "2023-05-25T20:26:40.808767Z"
    }
   },
   "outputs": [],
   "source": [
    "# check the shape of the transformed dataset\n"
   ]
  },
  {
   "cell_type": "markdown",
   "id": "c079e50b",
   "metadata": {},
   "source": [
    "### Implement TfidfVectorizer method in the News Articles dataset"
   ]
  },
  {
   "cell_type": "code",
   "execution_count": null,
   "id": "ab14b3c1",
   "metadata": {
    "ExecuteTime": {
     "end_time": "2023-05-25T20:26:41.023214Z",
     "start_time": "2023-05-25T20:26:40.825436Z"
    }
   },
   "outputs": [],
   "source": [
    "# Instatiate the TfidfVectorizer from scikitlearn\n",
    "\n",
    "\n",
    "# fit and transform the data with Tfidf vectorizer\n",
    "\n"
   ]
  },
  {
   "cell_type": "code",
   "execution_count": null,
   "id": "2e3e448a",
   "metadata": {
    "ExecuteTime": {
     "end_time": "2023-05-25T20:26:41.027630Z",
     "start_time": "2023-05-25T20:26:41.024095Z"
    }
   },
   "outputs": [],
   "source": [
    "# show the transformed data (the first 10 rows in array)\n",
    "\n"
   ]
  },
  {
   "cell_type": "code",
   "execution_count": null,
   "id": "ffc8992a",
   "metadata": {
    "ExecuteTime": {
     "end_time": "2023-05-25T20:26:41.121828Z",
     "start_time": "2023-05-25T20:26:41.029368Z"
    }
   },
   "outputs": [],
   "source": [
    "# Collect the features names\n",
    "\n",
    "\n",
    "# create dataframe for the transformed data using pandas\n",
    "\n",
    "\n",
    "# show top 5 rows using head method from pandas\n",
    "\n"
   ]
  },
  {
   "cell_type": "code",
   "execution_count": null,
   "id": "bfc690d5",
   "metadata": {
    "ExecuteTime": {
     "end_time": "2023-05-25T20:26:41.125486Z",
     "start_time": "2023-05-25T20:26:41.122749Z"
    }
   },
   "outputs": [],
   "source": [
    "# check the shape of the transformed dataset\n",
    "\n"
   ]
  },
  {
   "cell_type": "code",
   "execution_count": null,
   "id": "d4f66efe",
   "metadata": {},
   "outputs": [],
   "source": []
  },
  {
   "cell_type": "code",
   "execution_count": null,
   "id": "3a859151",
   "metadata": {},
   "outputs": [],
   "source": []
  }
 ],
 "metadata": {
  "hide_input": false,
  "kernelspec": {
   "display_name": "Python 3 (ipykernel)",
   "language": "python",
   "name": "python3"
  },
  "language_info": {
   "codemirror_mode": {
    "name": "ipython",
    "version": 3
   },
   "file_extension": ".py",
   "mimetype": "text/x-python",
   "name": "python",
   "nbconvert_exporter": "python",
   "pygments_lexer": "ipython3",
   "version": "3.11.3"
  },
  "toc": {
   "base_numbering": 1,
   "nav_menu": {},
   "number_sections": true,
   "sideBar": true,
   "skip_h1_title": false,
   "title_cell": "Table of Contents",
   "title_sidebar": "Contents",
   "toc_cell": false,
   "toc_position": {},
   "toc_section_display": true,
   "toc_window_display": false
  }
 },
 "nbformat": 4,
 "nbformat_minor": 5
}
