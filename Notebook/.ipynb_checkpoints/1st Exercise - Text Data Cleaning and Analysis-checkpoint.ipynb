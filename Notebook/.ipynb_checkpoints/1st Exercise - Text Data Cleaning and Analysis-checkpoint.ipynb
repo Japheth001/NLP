{
 "cells": [
  {
   "cell_type": "markdown",
   "id": "24805dc3",
   "metadata": {},
   "source": [
    "## 1st Exercise \n",
    "\n",
    "In this exercise you need to perform data cleaning and Text analysis using the news articles dataset provided in the data folder\n",
    "\n",
    "path = '../Data/tz_national_news_articles.csv'\n",
    "\n",
    "\n"
   ]
  },
  {
   "cell_type": "code",
   "execution_count": 2,
   "id": "942c66d1",
   "metadata": {
    "ExecuteTime": {
     "end_time": "2023-05-25T19:51:42.064285Z",
     "start_time": "2023-05-25T19:51:39.773534Z"
    }
   },
   "outputs": [],
   "source": [
    "# import packages\n",
    "import numpy as np\n",
    "import pandas as pd\n",
    "import matplotlib.pyplot as plt\n",
    "import seaborn as sns \n",
    "\n",
    "# text preprocessing modules\n",
    "from string import punctuation\n",
    "\n",
    "# sklearn module\n",
    "from sklearn.feature_extraction.text import CountVectorizer\n",
    "\n",
    "#wordcloud\n",
    "from wordcloud import WordCloud\n",
    "\n",
    "from collections import Counter\n",
    "\n",
    "# text preprocessing modules\n",
    "import nltk\n",
    "from nltk.tokenize import word_tokenize\n",
    "\n",
    "import re  #regular expression\n",
    "import emoji\n",
    "\n",
    "%matplotlib inline\n",
    "pd.options.mode.chained_assignment = None\n",
    "pd.set_option('display.max_colwidth', 100)\n",
    "\n",
    "import warnings\n",
    "\n",
    "warnings.filterwarnings(\"ignore\")\n",
    "# seeding\n",
    "np.random.seed(123)"
   ]
  },
  {
   "cell_type": "code",
   "execution_count": 2,
   "id": "a34a41b9",
   "metadata": {
    "ExecuteTime": {
     "end_time": "2023-05-25T19:51:42.069527Z",
     "start_time": "2023-05-25T19:51:42.066684Z"
    }
   },
   "outputs": [],
   "source": [
    "# load the dataset using pandas\n",
    "\n",
    "data = pd.read_csv(\"../Data/swahili_news_titles.csv\")"
   ]
  },
  {
   "cell_type": "code",
   "execution_count": 3,
   "id": "c26c3353",
   "metadata": {
    "ExecuteTime": {
     "end_time": "2023-05-25T19:51:42.077911Z",
     "start_time": "2023-05-25T19:51:42.075911Z"
    }
   },
   "outputs": [],
   "source": [
    "# show the shape of the dataset\n"
   ]
  },
  {
   "cell_type": "code",
   "execution_count": 4,
   "id": "67aa1b53",
   "metadata": {
    "ExecuteTime": {
     "end_time": "2023-05-25T19:51:42.085753Z",
     "start_time": "2023-05-25T19:51:42.082659Z"
    }
   },
   "outputs": [],
   "source": [
    "# show the first 10 rows\n"
   ]
  },
  {
   "cell_type": "markdown",
   "id": "e2798b11",
   "metadata": {},
   "source": [
    "## Cleaning the Dataset\n",
    "\n",
    "Cleaning text-data is a typical pre-processing task for data science and machine learning.\n",
    "\n",
    "It consists of getting rid of the less useful parts of text through stopword removal, dealing with capitalization, special characters and other details."
   ]
  },
  {
   "cell_type": "markdown",
   "id": "ff76a3ba",
   "metadata": {},
   "source": [
    "### 1. Check Missing values"
   ]
  },
  {
   "cell_type": "code",
   "execution_count": 5,
   "id": "b284a8ee",
   "metadata": {
    "ExecuteTime": {
     "end_time": "2023-05-25T19:51:42.089731Z",
     "start_time": "2023-05-25T19:51:42.088435Z"
    }
   },
   "outputs": [],
   "source": [
    "# check if the dataset has some missing values using pandas\n",
    "\n"
   ]
  },
  {
   "cell_type": "markdown",
   "id": "06a78eb5",
   "metadata": {},
   "source": [
    "The dataset does not have any missing values"
   ]
  },
  {
   "cell_type": "markdown",
   "id": "8807ec64",
   "metadata": {
    "ExecuteTime": {
     "end_time": "2023-05-24T20:07:41.275236Z",
     "start_time": "2023-05-24T20:07:41.025367Z"
    }
   },
   "source": [
    "### 2. Remove Numbers"
   ]
  },
  {
   "cell_type": "code",
   "execution_count": 6,
   "id": "700ee920",
   "metadata": {
    "ExecuteTime": {
     "end_time": "2023-05-25T19:51:42.093705Z",
     "start_time": "2023-05-25T19:51:42.091738Z"
    }
   },
   "outputs": [],
   "source": [
    "# create the function \n",
    "\n",
    "# apply the function\n"
   ]
  },
  {
   "cell_type": "markdown",
   "id": "ca8ee2b3",
   "metadata": {
    "ExecuteTime": {
     "end_time": "2023-05-24T19:07:05.136547Z",
     "start_time": "2023-05-24T19:07:05.130250Z"
    }
   },
   "source": [
    "### 3. Remove Punctuation"
   ]
  },
  {
   "cell_type": "code",
   "execution_count": 7,
   "id": "4c2cc9af",
   "metadata": {
    "ExecuteTime": {
     "end_time": "2023-05-25T19:51:42.098952Z",
     "start_time": "2023-05-25T19:51:42.095824Z"
    }
   },
   "outputs": [],
   "source": [
    "# create the function \n",
    "\n",
    "# apply the function\n"
   ]
  },
  {
   "cell_type": "markdown",
   "id": "4f6af7ba",
   "metadata": {
    "ExecuteTime": {
     "end_time": "2023-05-24T19:07:24.185844Z",
     "start_time": "2023-05-24T19:07:24.177875Z"
    }
   },
   "source": [
    "### 4. Normalize case into Lower Case"
   ]
  },
  {
   "cell_type": "code",
   "execution_count": 8,
   "id": "5beba55c",
   "metadata": {
    "ExecuteTime": {
     "end_time": "2023-05-25T19:51:42.103216Z",
     "start_time": "2023-05-25T19:51:42.101115Z"
    }
   },
   "outputs": [],
   "source": [
    "# convert the text to lowercase\n"
   ]
  },
  {
   "cell_type": "markdown",
   "id": "af8d227e",
   "metadata": {
    "ExecuteTime": {
     "end_time": "2023-05-24T19:07:39.881408Z",
     "start_time": "2023-05-24T19:07:39.874721Z"
    }
   },
   "source": [
    "### 5. Remove Stopwords \n"
   ]
  },
  {
   "cell_type": "code",
   "execution_count": 9,
   "id": "486cffd3",
   "metadata": {
    "ExecuteTime": {
     "end_time": "2023-05-25T19:51:42.218776Z",
     "start_time": "2023-05-25T19:51:42.112711Z"
    }
   },
   "outputs": [],
   "source": [
    "# list of swahili stop words\n",
    "swahili_stopwords = [\n",
    "    'akasema', 'alikuwa', 'alisema', 'baada', 'basi', 'bila', 'cha', 'chini',\n",
    "    'hadi', 'hapo', 'hata', 'hivyo', 'hiyo', 'huku', 'huo', 'ila', 'ili',\n",
    "    'ilikuwa', 'juu', 'kama', 'karibu', 'katika', 'kila', 'kima', 'kisha',\n",
    "    'kubwa', 'kutoka', 'kuwa', 'kwa', 'kwamba', 'kwenda', 'kwenye', 'la',\n",
    "    'lakini', 'mara', 'mdogo', 'mimi', 'mkubwa', 'mmoja', 'moja', 'muda',\n",
    "    'mwenye', 'na', 'naye', 'ndani', 'ni', 'nini', 'nonkungu', 'pamoja', 'pia',\n",
    "    'sana', 'sasa', 'sauti', 'tafadhali', 'tena', 'tu', 'vile', 'wa', 'wakati',\n",
    "    'wake', 'walikuwa', 'wao', 'watu', 'wengine', 'wote', 'ya', 'hivi', 'huu',\n",
    "    'hii', 'yake', 'yangu', 'yao', 'yeye', 'yule', 'vya', 'za', 't', 'co',\n",
    "    'kuna', 'nie', 'kati', 'ile', 'tz', 'au', 'tanzania', 'zaidi', 'zake',\n",
    "    'si', 'mm', 'ndo', 'hapa', 'je', 'hawa', 'nyie','wewe','hiki'\n",
    "]"
   ]
  },
  {
   "cell_type": "code",
   "execution_count": 10,
   "id": "b90f1721",
   "metadata": {
    "ExecuteTime": {
     "end_time": "2023-05-25T19:51:42.222404Z",
     "start_time": "2023-05-25T19:51:42.220467Z"
    }
   },
   "outputs": [],
   "source": [
    "# function to remove stopwords \n"
   ]
  },
  {
   "cell_type": "code",
   "execution_count": 11,
   "id": "dd305246",
   "metadata": {
    "ExecuteTime": {
     "end_time": "2023-05-25T19:51:42.225255Z",
     "start_time": "2023-05-25T19:51:42.223724Z"
    }
   },
   "outputs": [],
   "source": [
    "# remove stopwords presented on the collection of news articles\n"
   ]
  },
  {
   "cell_type": "markdown",
   "id": "6b246787",
   "metadata": {},
   "source": [
    "### 6. Replace Values"
   ]
  },
  {
   "cell_type": "code",
   "execution_count": 12,
   "id": "ec563399",
   "metadata": {
    "ExecuteTime": {
     "end_time": "2023-05-25T19:51:42.227456Z",
     "start_time": "2023-05-25T19:51:42.226115Z"
    }
   },
   "outputs": [],
   "source": [
    "# create a function replace links with a word called \"tovuti\" \n",
    "\n",
    "\n",
    "# apply the function\n"
   ]
  },
  {
   "cell_type": "markdown",
   "id": "68525233",
   "metadata": {
    "ExecuteTime": {
     "end_time": "2023-05-24T21:35:44.943358Z",
     "start_time": "2023-05-24T21:35:44.907124Z"
    }
   },
   "source": [
    "### 7. Remove Emojis\n"
   ]
  },
  {
   "cell_type": "code",
   "execution_count": 13,
   "id": "bd3afa76",
   "metadata": {
    "ExecuteTime": {
     "end_time": "2023-05-25T19:51:42.229531Z",
     "start_time": "2023-05-25T19:51:42.228385Z"
    }
   },
   "outputs": [],
   "source": [
    "#create function\n",
    "\n",
    "\n",
    "#apply the function\n"
   ]
  },
  {
   "cell_type": "code",
   "execution_count": 14,
   "id": "900a1175",
   "metadata": {
    "ExecuteTime": {
     "end_time": "2023-05-25T19:51:42.232020Z",
     "start_time": "2023-05-25T19:51:42.230489Z"
    }
   },
   "outputs": [],
   "source": [
    "# show cleaned comment\n"
   ]
  },
  {
   "cell_type": "markdown",
   "id": "af8318bf",
   "metadata": {},
   "source": [
    "## Text Analysis"
   ]
  },
  {
   "cell_type": "markdown",
   "id": "51539bcb",
   "metadata": {},
   "source": [
    "### 1. Total Words\n",
    "\n",
    "Find the total number of words in the collection of all documents"
   ]
  },
  {
   "cell_type": "code",
   "execution_count": 15,
   "id": "accb4e7f",
   "metadata": {
    "ExecuteTime": {
     "end_time": "2023-05-25T19:51:42.234504Z",
     "start_time": "2023-05-25T19:51:42.233285Z"
    }
   },
   "outputs": [],
   "source": [
    "# Split comments into words\n",
    "\n",
    "\n",
    "# Calculate total number of words\n",
    "\n",
    "\n",
    "# Print the results\n"
   ]
  },
  {
   "cell_type": "markdown",
   "id": "c8707543",
   "metadata": {},
   "source": [
    "### 2. Unique Words\n",
    "\n",
    "Find total number of uniques words presented in the collection of all documents"
   ]
  },
  {
   "cell_type": "code",
   "execution_count": 16,
   "id": "577cff0c",
   "metadata": {
    "ExecuteTime": {
     "end_time": "2023-05-25T19:51:42.237210Z",
     "start_time": "2023-05-25T19:51:42.235700Z"
    }
   },
   "outputs": [],
   "source": [
    "# Calculate total number of unique words\n"
   ]
  },
  {
   "cell_type": "markdown",
   "id": "6abb85b4",
   "metadata": {},
   "source": [
    "### 3.Visualize Top Words\n",
    "\n",
    "Visualizing the top words allows you to quickly identify the most frequently occurring terms in the text corpus. This can provide a high-level overview of the prominent topics or themes present in the data"
   ]
  },
  {
   "cell_type": "code",
   "execution_count": 17,
   "id": "30569acb",
   "metadata": {
    "ExecuteTime": {
     "end_time": "2023-05-25T19:51:42.240507Z",
     "start_time": "2023-05-25T19:51:42.238717Z"
    }
   },
   "outputs": [],
   "source": [
    "# Write a python code to collect all words presented in the collection of documents(articles)\n"
   ]
  },
  {
   "cell_type": "code",
   "execution_count": 18,
   "id": "63380d9a",
   "metadata": {
    "ExecuteTime": {
     "end_time": "2023-05-25T19:51:42.242892Z",
     "start_time": "2023-05-25T19:51:42.241259Z"
    }
   },
   "outputs": [],
   "source": [
    "# Create a python code visualize the top 20 words using seaborn \n"
   ]
  },
  {
   "cell_type": "markdown",
   "id": "8c5539b5",
   "metadata": {},
   "source": [
    "### 4. Explore With WordCloud\n"
   ]
  },
  {
   "cell_type": "code",
   "execution_count": 19,
   "id": "33871147",
   "metadata": {
    "ExecuteTime": {
     "end_time": "2023-05-25T19:51:42.245375Z",
     "start_time": "2023-05-25T19:51:42.243819Z"
    }
   },
   "outputs": [],
   "source": [
    "# Create a function to explore wordcloud\n"
   ]
  },
  {
   "cell_type": "code",
   "execution_count": 20,
   "id": "c47ba0d3",
   "metadata": {
    "ExecuteTime": {
     "end_time": "2023-05-25T19:51:42.247956Z",
     "start_time": "2023-05-25T19:51:42.246475Z"
    }
   },
   "outputs": [],
   "source": [
    "# show world cloud using the function you created\n"
   ]
  },
  {
   "cell_type": "markdown",
   "id": "9face9e7",
   "metadata": {},
   "source": [
    "### 5. Word Length Analysis"
   ]
  },
  {
   "cell_type": "code",
   "execution_count": 21,
   "id": "471f5a54",
   "metadata": {
    "ExecuteTime": {
     "end_time": "2023-05-25T19:51:42.249883Z",
     "start_time": "2023-05-25T19:51:42.248687Z"
    }
   },
   "outputs": [],
   "source": [
    "# Create a pyton code to tokenize the sentences into words and calculate the word count\n",
    "\n",
    "# set the figure size of your graph using matplotlib\n",
    "\n",
    "# Create the histogram\n",
    "\n",
    "# Set the x-axis and y-axis labels\n",
    "\n",
    "\n",
    "# Set the title of your plot\n",
    "\n",
    "# Show the plot\n"
   ]
  },
  {
   "cell_type": "code",
   "execution_count": 22,
   "id": "b20ba069",
   "metadata": {
    "ExecuteTime": {
     "end_time": "2023-05-25T19:51:42.252159Z",
     "start_time": "2023-05-25T19:51:42.250777Z"
    }
   },
   "outputs": [],
   "source": [
    "#save cleaned data using pandas package\n"
   ]
  }
 ],
 "metadata": {
  "hide_input": false,
  "kernelspec": {
   "display_name": "Python 3 (ipykernel)",
   "language": "python",
   "name": "python3"
  },
  "language_info": {
   "codemirror_mode": {
    "name": "ipython",
    "version": 3
   },
   "file_extension": ".py",
   "mimetype": "text/x-python",
   "name": "python",
   "nbconvert_exporter": "python",
   "pygments_lexer": "ipython3",
   "version": "3.11.3"
  },
  "toc": {
   "base_numbering": 1,
   "nav_menu": {},
   "number_sections": true,
   "sideBar": true,
   "skip_h1_title": false,
   "title_cell": "Table of Contents",
   "title_sidebar": "Contents",
   "toc_cell": false,
   "toc_position": {},
   "toc_section_display": true,
   "toc_window_display": false
  }
 },
 "nbformat": 4,
 "nbformat_minor": 5
}
