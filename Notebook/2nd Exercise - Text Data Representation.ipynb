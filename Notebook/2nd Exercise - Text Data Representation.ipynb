{
 "cells": [
  {
   "cell_type": "markdown",
   "id": "bb3920fd",
   "metadata": {},
   "source": [
    "## 2nd Exercise \n",
    "\n",
    "In this exercise you need to perform data preprocessing using the news articles dataset provided in the data folder\n",
    "\n",
    "Use the clean data you have developed from the First Exercise"
   ]
  },
  {
   "cell_type": "code",
   "execution_count": 15,
   "id": "148a6b77",
   "metadata": {
    "ExecuteTime": {
     "end_time": "2023-05-26T06:41:36.522554Z",
     "start_time": "2023-05-26T06:41:34.376264Z"
    }
   },
   "outputs": [],
   "source": [
    "# Import packages\n",
    "import numpy as np\n",
    "import pandas as pd \n",
    "\n",
    "from sklearn.feature_extraction.text import TfidfVectorizer, CountVectorizer\n",
    "\n",
    "import warnings\n",
    "\n",
    "warnings.filterwarnings(\"ignore\")\n",
    "# seeding\n",
    "np.random.seed(123)"
   ]
  },
  {
   "cell_type": "code",
   "execution_count": 16,
   "id": "10f086ca",
   "metadata": {
    "ExecuteTime": {
     "end_time": "2023-05-25T20:26:40.482059Z",
     "start_time": "2023-05-25T20:26:40.392760Z"
    }
   },
   "outputs": [],
   "source": [
    "# load data using pandas \n",
    "\n",
    "data = pd.read_csv('../Data/tz_national_news_articles_clean_data.csv')\n"
   ]
  },
  {
   "cell_type": "code",
   "execution_count": 17,
   "id": "6b3fc67e",
   "metadata": {},
   "outputs": [
    {
     "data": {
      "text/html": [
       "<div>\n",
       "<style scoped>\n",
       "    .dataframe tbody tr th:only-of-type {\n",
       "        vertical-align: middle;\n",
       "    }\n",
       "\n",
       "    .dataframe tbody tr th {\n",
       "        vertical-align: top;\n",
       "    }\n",
       "\n",
       "    .dataframe thead th {\n",
       "        text-align: right;\n",
       "    }\n",
       "</style>\n",
       "<table border=\"1\" class=\"dataframe\">\n",
       "  <thead>\n",
       "    <tr style=\"text-align: right;\">\n",
       "      <th></th>\n",
       "      <th>content</th>\n",
       "      <th>word_count</th>\n",
       "    </tr>\n",
       "  </thead>\n",
       "  <tbody>\n",
       "    <tr>\n",
       "      <th>0</th>\n",
       "      <td>kuongeza kasi kuchapisha vitambulisho taifa ma...</td>\n",
       "      <td>307</td>\n",
       "    </tr>\n",
       "    <tr>\n",
       "      <th>1</th>\n",
       "      <td>kampuni zimejitokeza kununua ufuta wilaya ruan...</td>\n",
       "      <td>253</td>\n",
       "    </tr>\n",
       "    <tr>\n",
       "      <th>2</th>\n",
       "      <td>takwimu hospitali taifa muhimbili mnh zinaones...</td>\n",
       "      <td>191</td>\n",
       "    </tr>\n",
       "    <tr>\n",
       "      <th>3</th>\n",
       "      <td>idadi vifo waendesha bodaboda nchini vitokanav...</td>\n",
       "      <td>111</td>\n",
       "    </tr>\n",
       "    <tr>\n",
       "      <th>4</th>\n",
       "      <td>serikali imeyafuta mashamba sita yenye ukubwa ...</td>\n",
       "      <td>198</td>\n",
       "    </tr>\n",
       "  </tbody>\n",
       "</table>\n",
       "</div>"
      ],
      "text/plain": [
       "                                             content  word_count\n",
       "0  kuongeza kasi kuchapisha vitambulisho taifa ma...         307\n",
       "1  kampuni zimejitokeza kununua ufuta wilaya ruan...         253\n",
       "2  takwimu hospitali taifa muhimbili mnh zinaones...         191\n",
       "3  idadi vifo waendesha bodaboda nchini vitokanav...         111\n",
       "4  serikali imeyafuta mashamba sita yenye ukubwa ...         198"
      ]
     },
     "execution_count": 17,
     "metadata": {},
     "output_type": "execute_result"
    }
   ],
   "source": [
    "data.head()"
   ]
  },
  {
   "cell_type": "code",
   "execution_count": 18,
   "id": "977c9293",
   "metadata": {
    "ExecuteTime": {
     "end_time": "2023-05-25T20:26:40.525986Z",
     "start_time": "2023-05-25T20:26:40.485173Z"
    }
   },
   "outputs": [
    {
     "data": {
      "text/html": [
       "<div>\n",
       "<style scoped>\n",
       "    .dataframe tbody tr th:only-of-type {\n",
       "        vertical-align: middle;\n",
       "    }\n",
       "\n",
       "    .dataframe tbody tr th {\n",
       "        vertical-align: top;\n",
       "    }\n",
       "\n",
       "    .dataframe thead th {\n",
       "        text-align: right;\n",
       "    }\n",
       "</style>\n",
       "<table border=\"1\" class=\"dataframe\">\n",
       "  <thead>\n",
       "    <tr style=\"text-align: right;\">\n",
       "      <th></th>\n",
       "      <th>content</th>\n",
       "      <th>word_count</th>\n",
       "    </tr>\n",
       "  </thead>\n",
       "  <tbody>\n",
       "    <tr>\n",
       "      <th>0</th>\n",
       "      <td>kuongeza kasi kuchapisha vitambulisho taifa ma...</td>\n",
       "      <td>307</td>\n",
       "    </tr>\n",
       "    <tr>\n",
       "      <th>1</th>\n",
       "      <td>kampuni zimejitokeza kununua ufuta wilaya ruan...</td>\n",
       "      <td>253</td>\n",
       "    </tr>\n",
       "    <tr>\n",
       "      <th>2</th>\n",
       "      <td>takwimu hospitali taifa muhimbili mnh zinaones...</td>\n",
       "      <td>191</td>\n",
       "    </tr>\n",
       "    <tr>\n",
       "      <th>3</th>\n",
       "      <td>idadi vifo waendesha bodaboda nchini vitokanav...</td>\n",
       "      <td>111</td>\n",
       "    </tr>\n",
       "    <tr>\n",
       "      <th>4</th>\n",
       "      <td>serikali imeyafuta mashamba sita yenye ukubwa ...</td>\n",
       "      <td>198</td>\n",
       "    </tr>\n",
       "  </tbody>\n",
       "</table>\n",
       "</div>"
      ],
      "text/plain": [
       "                                             content  word_count\n",
       "0  kuongeza kasi kuchapisha vitambulisho taifa ma...         307\n",
       "1  kampuni zimejitokeza kununua ufuta wilaya ruan...         253\n",
       "2  takwimu hospitali taifa muhimbili mnh zinaones...         191\n",
       "3  idadi vifo waendesha bodaboda nchini vitokanav...         111\n",
       "4  serikali imeyafuta mashamba sita yenye ukubwa ...         198"
      ]
     },
     "execution_count": 18,
     "metadata": {},
     "output_type": "execute_result"
    }
   ],
   "source": [
    "# show sample of the data using head method from pandas \n",
    "\n",
    "data.head()\n"
   ]
  },
  {
   "cell_type": "markdown",
   "id": "6b6ed317",
   "metadata": {},
   "source": [
    "### Implement CountVectorizer method in the News Articles  Dataset"
   ]
  },
  {
   "cell_type": "code",
   "execution_count": 26,
   "id": "99d16e78",
   "metadata": {
    "ExecuteTime": {
     "end_time": "2023-05-25T20:26:40.688614Z",
     "start_time": "2023-05-25T20:26:40.534251Z"
    }
   },
   "outputs": [],
   "source": [
    "# Instatiate the CountVectorizer from scikitlearn\n",
    "\n",
    "count_vectorizer = CountVectorizer()\n",
    "\n",
    "# fit and transform the data with count vectorizer\n",
    "count_data = count_vectorizer.fit_transform(data['content'].values.astype('U'))\n"
   ]
  },
  {
   "cell_type": "code",
   "execution_count": 27,
   "id": "d777a9f1",
   "metadata": {
    "ExecuteTime": {
     "end_time": "2023-05-25T20:26:40.695869Z",
     "start_time": "2023-05-25T20:26:40.690706Z"
    }
   },
   "outputs": [
    {
     "data": {
      "text/plain": [
       "array([[0, 0, 0, ..., 0, 0, 0],\n",
       "       [0, 0, 0, ..., 0, 0, 0],\n",
       "       [0, 0, 0, ..., 0, 0, 0],\n",
       "       ...,\n",
       "       [0, 0, 0, ..., 0, 0, 0],\n",
       "       [0, 0, 0, ..., 0, 0, 1],\n",
       "       [0, 0, 0, ..., 0, 0, 0]], dtype=int64)"
      ]
     },
     "execution_count": 27,
     "metadata": {},
     "output_type": "execute_result"
    }
   ],
   "source": [
    "# show the transformed data (the first 10 rows in array)\n",
    "count_data[:10].toarray() \n"
   ]
  },
  {
   "cell_type": "code",
   "execution_count": 28,
   "id": "486c8633",
   "metadata": {
    "ExecuteTime": {
     "end_time": "2023-05-25T20:26:40.806873Z",
     "start_time": "2023-05-25T20:26:40.697997Z"
    }
   },
   "outputs": [
    {
     "data": {
      "text/html": [
       "<div>\n",
       "<style scoped>\n",
       "    .dataframe tbody tr th:only-of-type {\n",
       "        vertical-align: middle;\n",
       "    }\n",
       "\n",
       "    .dataframe tbody tr th {\n",
       "        vertical-align: top;\n",
       "    }\n",
       "\n",
       "    .dataframe thead th {\n",
       "        text-align: right;\n",
       "    }\n",
       "</style>\n",
       "<table border=\"1\" class=\"dataframe\">\n",
       "  <thead>\n",
       "    <tr style=\"text-align: right;\">\n",
       "      <th></th>\n",
       "      <th>aa</th>\n",
       "      <th>aache</th>\n",
       "      <th>aachie</th>\n",
       "      <th>aadfi</th>\n",
       "      <th>aafp</th>\n",
       "      <th>aagiza</th>\n",
       "      <th>aagize</th>\n",
       "      <th>aagwa</th>\n",
       "      <th>aaisa</th>\n",
       "      <th>aakia</th>\n",
       "      <th>...</th>\n",
       "      <th>zungsong</th>\n",
       "      <th>zungu</th>\n",
       "      <th>zunguka</th>\n",
       "      <th>zungulicha</th>\n",
       "      <th>zuri</th>\n",
       "      <th>zuriamesema</th>\n",
       "      <th>zuzu</th>\n",
       "      <th>zuzuamesema</th>\n",
       "      <th>zwa</th>\n",
       "      <th>ùkuaji</th>\n",
       "    </tr>\n",
       "  </thead>\n",
       "  <tbody>\n",
       "    <tr>\n",
       "      <th>0</th>\n",
       "      <td>0</td>\n",
       "      <td>0</td>\n",
       "      <td>0</td>\n",
       "      <td>0</td>\n",
       "      <td>0</td>\n",
       "      <td>0</td>\n",
       "      <td>0</td>\n",
       "      <td>0</td>\n",
       "      <td>0</td>\n",
       "      <td>0</td>\n",
       "      <td>...</td>\n",
       "      <td>0</td>\n",
       "      <td>0</td>\n",
       "      <td>0</td>\n",
       "      <td>0</td>\n",
       "      <td>0</td>\n",
       "      <td>0</td>\n",
       "      <td>0</td>\n",
       "      <td>0</td>\n",
       "      <td>0</td>\n",
       "      <td>0</td>\n",
       "    </tr>\n",
       "    <tr>\n",
       "      <th>1</th>\n",
       "      <td>0</td>\n",
       "      <td>0</td>\n",
       "      <td>0</td>\n",
       "      <td>0</td>\n",
       "      <td>0</td>\n",
       "      <td>0</td>\n",
       "      <td>0</td>\n",
       "      <td>0</td>\n",
       "      <td>0</td>\n",
       "      <td>0</td>\n",
       "      <td>...</td>\n",
       "      <td>0</td>\n",
       "      <td>0</td>\n",
       "      <td>0</td>\n",
       "      <td>0</td>\n",
       "      <td>0</td>\n",
       "      <td>0</td>\n",
       "      <td>0</td>\n",
       "      <td>0</td>\n",
       "      <td>0</td>\n",
       "      <td>0</td>\n",
       "    </tr>\n",
       "    <tr>\n",
       "      <th>2</th>\n",
       "      <td>0</td>\n",
       "      <td>0</td>\n",
       "      <td>0</td>\n",
       "      <td>0</td>\n",
       "      <td>0</td>\n",
       "      <td>0</td>\n",
       "      <td>0</td>\n",
       "      <td>0</td>\n",
       "      <td>0</td>\n",
       "      <td>0</td>\n",
       "      <td>...</td>\n",
       "      <td>0</td>\n",
       "      <td>0</td>\n",
       "      <td>0</td>\n",
       "      <td>0</td>\n",
       "      <td>0</td>\n",
       "      <td>0</td>\n",
       "      <td>0</td>\n",
       "      <td>0</td>\n",
       "      <td>0</td>\n",
       "      <td>0</td>\n",
       "    </tr>\n",
       "    <tr>\n",
       "      <th>3</th>\n",
       "      <td>0</td>\n",
       "      <td>0</td>\n",
       "      <td>0</td>\n",
       "      <td>0</td>\n",
       "      <td>0</td>\n",
       "      <td>0</td>\n",
       "      <td>0</td>\n",
       "      <td>0</td>\n",
       "      <td>0</td>\n",
       "      <td>0</td>\n",
       "      <td>...</td>\n",
       "      <td>0</td>\n",
       "      <td>0</td>\n",
       "      <td>0</td>\n",
       "      <td>0</td>\n",
       "      <td>0</td>\n",
       "      <td>0</td>\n",
       "      <td>0</td>\n",
       "      <td>0</td>\n",
       "      <td>0</td>\n",
       "      <td>0</td>\n",
       "    </tr>\n",
       "    <tr>\n",
       "      <th>4</th>\n",
       "      <td>0</td>\n",
       "      <td>0</td>\n",
       "      <td>0</td>\n",
       "      <td>0</td>\n",
       "      <td>0</td>\n",
       "      <td>0</td>\n",
       "      <td>0</td>\n",
       "      <td>0</td>\n",
       "      <td>0</td>\n",
       "      <td>0</td>\n",
       "      <td>...</td>\n",
       "      <td>0</td>\n",
       "      <td>0</td>\n",
       "      <td>0</td>\n",
       "      <td>0</td>\n",
       "      <td>0</td>\n",
       "      <td>0</td>\n",
       "      <td>0</td>\n",
       "      <td>0</td>\n",
       "      <td>0</td>\n",
       "      <td>0</td>\n",
       "    </tr>\n",
       "  </tbody>\n",
       "</table>\n",
       "<p>5 rows × 53491 columns</p>\n",
       "</div>"
      ],
      "text/plain": [
       "   aa  aache  aachie  aadfi  aafp  aagiza  aagize  aagwa  aaisa  aakia  ...  \\\n",
       "0   0      0       0      0     0       0       0      0      0      0  ...   \n",
       "1   0      0       0      0     0       0       0      0      0      0  ...   \n",
       "2   0      0       0      0     0       0       0      0      0      0  ...   \n",
       "3   0      0       0      0     0       0       0      0      0      0  ...   \n",
       "4   0      0       0      0     0       0       0      0      0      0  ...   \n",
       "\n",
       "   zungsong  zungu  zunguka  zungulicha  zuri  zuriamesema  zuzu  zuzuamesema  \\\n",
       "0         0      0        0           0     0            0     0            0   \n",
       "1         0      0        0           0     0            0     0            0   \n",
       "2         0      0        0           0     0            0     0            0   \n",
       "3         0      0        0           0     0            0     0            0   \n",
       "4         0      0        0           0     0            0     0            0   \n",
       "\n",
       "   zwa  ùkuaji  \n",
       "0    0       0  \n",
       "1    0       0  \n",
       "2    0       0  \n",
       "3    0       0  \n",
       "4    0       0  \n",
       "\n",
       "[5 rows x 53491 columns]"
      ]
     },
     "execution_count": 28,
     "metadata": {},
     "output_type": "execute_result"
    }
   ],
   "source": [
    "# show top 5 rows using head method from pandas\n",
    "\n",
    "cv_feature_names = count_vectorizer.get_feature_names_out()\n",
    "\n",
    "# create dataframe for the transformed data using pandas\n",
    "count_data_df = pd.DataFrame(count_data.toarray(),\n",
    "                             columns=list(cv_feature_names))\n",
    "\n",
    "# show top 5 rows using head method from pandas\n",
    "count_data_df.head()\n"
   ]
  },
  {
   "cell_type": "code",
   "execution_count": 30,
   "id": "56806f96",
   "metadata": {
    "ExecuteTime": {
     "end_time": "2023-05-25T20:26:40.814177Z",
     "start_time": "2023-05-25T20:26:40.808767Z"
    }
   },
   "outputs": [
    {
     "data": {
      "text/plain": [
       "(2000, 53491)"
      ]
     },
     "execution_count": 30,
     "metadata": {},
     "output_type": "execute_result"
    }
   ],
   "source": [
    "# check the shape of the transformed dataset\n",
    "count_data_df.shape "
   ]
  },
  {
   "cell_type": "markdown",
   "id": "c079e50b",
   "metadata": {},
   "source": [
    "### Implement TfidfVectorizer method in the News Articles dataset"
   ]
  },
  {
   "cell_type": "code",
   "execution_count": 31,
   "id": "ab14b3c1",
   "metadata": {
    "ExecuteTime": {
     "end_time": "2023-05-25T20:26:41.023214Z",
     "start_time": "2023-05-25T20:26:40.825436Z"
    }
   },
   "outputs": [],
   "source": [
    "# Instatiate the TfidfVectorizer from scikitlearn\n",
    "\n",
    "tfidf_vectorizer = TfidfVectorizer()\n",
    "\n",
    "# fit and transform the data with Tfidf vectorizer\n",
    "tfidf_data = tfidf_vectorizer.fit_transform(data['content'].values.astype('U'))\n"
   ]
  },
  {
   "cell_type": "code",
   "execution_count": 32,
   "id": "2e3e448a",
   "metadata": {
    "ExecuteTime": {
     "end_time": "2023-05-25T20:26:41.027630Z",
     "start_time": "2023-05-25T20:26:41.024095Z"
    }
   },
   "outputs": [
    {
     "data": {
      "text/plain": [
       "array([[0.        , 0.        , 0.        , ..., 0.        , 0.        ,\n",
       "        0.        ],\n",
       "       [0.        , 0.        , 0.        , ..., 0.        , 0.        ,\n",
       "        0.        ],\n",
       "       [0.        , 0.        , 0.        , ..., 0.        , 0.        ,\n",
       "        0.        ],\n",
       "       ...,\n",
       "       [0.        , 0.        , 0.        , ..., 0.        , 0.        ,\n",
       "        0.        ],\n",
       "       [0.        , 0.        , 0.        , ..., 0.        , 0.        ,\n",
       "        0.01798696],\n",
       "       [0.        , 0.        , 0.        , ..., 0.        , 0.        ,\n",
       "        0.        ]])"
      ]
     },
     "execution_count": 32,
     "metadata": {},
     "output_type": "execute_result"
    }
   ],
   "source": [
    "# show the transformed data (the first 10 rows in array)\n",
    "\n",
    "tfidf_data[:10].toarray() "
   ]
  },
  {
   "cell_type": "code",
   "execution_count": 33,
   "id": "ffc8992a",
   "metadata": {
    "ExecuteTime": {
     "end_time": "2023-05-25T20:26:41.121828Z",
     "start_time": "2023-05-25T20:26:41.029368Z"
    }
   },
   "outputs": [
    {
     "data": {
      "text/html": [
       "<div>\n",
       "<style scoped>\n",
       "    .dataframe tbody tr th:only-of-type {\n",
       "        vertical-align: middle;\n",
       "    }\n",
       "\n",
       "    .dataframe tbody tr th {\n",
       "        vertical-align: top;\n",
       "    }\n",
       "\n",
       "    .dataframe thead th {\n",
       "        text-align: right;\n",
       "    }\n",
       "</style>\n",
       "<table border=\"1\" class=\"dataframe\">\n",
       "  <thead>\n",
       "    <tr style=\"text-align: right;\">\n",
       "      <th></th>\n",
       "      <th>aa</th>\n",
       "      <th>aache</th>\n",
       "      <th>aachie</th>\n",
       "      <th>aadfi</th>\n",
       "      <th>aafp</th>\n",
       "      <th>aagiza</th>\n",
       "      <th>aagize</th>\n",
       "      <th>aagwa</th>\n",
       "      <th>aaisa</th>\n",
       "      <th>aakia</th>\n",
       "      <th>...</th>\n",
       "      <th>zungsong</th>\n",
       "      <th>zungu</th>\n",
       "      <th>zunguka</th>\n",
       "      <th>zungulicha</th>\n",
       "      <th>zuri</th>\n",
       "      <th>zuriamesema</th>\n",
       "      <th>zuzu</th>\n",
       "      <th>zuzuamesema</th>\n",
       "      <th>zwa</th>\n",
       "      <th>ùkuaji</th>\n",
       "    </tr>\n",
       "  </thead>\n",
       "  <tbody>\n",
       "    <tr>\n",
       "      <th>0</th>\n",
       "      <td>0.0</td>\n",
       "      <td>0.0</td>\n",
       "      <td>0.0</td>\n",
       "      <td>0.0</td>\n",
       "      <td>0.0</td>\n",
       "      <td>0.0</td>\n",
       "      <td>0.0</td>\n",
       "      <td>0.0</td>\n",
       "      <td>0.0</td>\n",
       "      <td>0.0</td>\n",
       "      <td>...</td>\n",
       "      <td>0.0</td>\n",
       "      <td>0.0</td>\n",
       "      <td>0.0</td>\n",
       "      <td>0.0</td>\n",
       "      <td>0.0</td>\n",
       "      <td>0.0</td>\n",
       "      <td>0.0</td>\n",
       "      <td>0.0</td>\n",
       "      <td>0.0</td>\n",
       "      <td>0.0</td>\n",
       "    </tr>\n",
       "    <tr>\n",
       "      <th>1</th>\n",
       "      <td>0.0</td>\n",
       "      <td>0.0</td>\n",
       "      <td>0.0</td>\n",
       "      <td>0.0</td>\n",
       "      <td>0.0</td>\n",
       "      <td>0.0</td>\n",
       "      <td>0.0</td>\n",
       "      <td>0.0</td>\n",
       "      <td>0.0</td>\n",
       "      <td>0.0</td>\n",
       "      <td>...</td>\n",
       "      <td>0.0</td>\n",
       "      <td>0.0</td>\n",
       "      <td>0.0</td>\n",
       "      <td>0.0</td>\n",
       "      <td>0.0</td>\n",
       "      <td>0.0</td>\n",
       "      <td>0.0</td>\n",
       "      <td>0.0</td>\n",
       "      <td>0.0</td>\n",
       "      <td>0.0</td>\n",
       "    </tr>\n",
       "    <tr>\n",
       "      <th>2</th>\n",
       "      <td>0.0</td>\n",
       "      <td>0.0</td>\n",
       "      <td>0.0</td>\n",
       "      <td>0.0</td>\n",
       "      <td>0.0</td>\n",
       "      <td>0.0</td>\n",
       "      <td>0.0</td>\n",
       "      <td>0.0</td>\n",
       "      <td>0.0</td>\n",
       "      <td>0.0</td>\n",
       "      <td>...</td>\n",
       "      <td>0.0</td>\n",
       "      <td>0.0</td>\n",
       "      <td>0.0</td>\n",
       "      <td>0.0</td>\n",
       "      <td>0.0</td>\n",
       "      <td>0.0</td>\n",
       "      <td>0.0</td>\n",
       "      <td>0.0</td>\n",
       "      <td>0.0</td>\n",
       "      <td>0.0</td>\n",
       "    </tr>\n",
       "    <tr>\n",
       "      <th>3</th>\n",
       "      <td>0.0</td>\n",
       "      <td>0.0</td>\n",
       "      <td>0.0</td>\n",
       "      <td>0.0</td>\n",
       "      <td>0.0</td>\n",
       "      <td>0.0</td>\n",
       "      <td>0.0</td>\n",
       "      <td>0.0</td>\n",
       "      <td>0.0</td>\n",
       "      <td>0.0</td>\n",
       "      <td>...</td>\n",
       "      <td>0.0</td>\n",
       "      <td>0.0</td>\n",
       "      <td>0.0</td>\n",
       "      <td>0.0</td>\n",
       "      <td>0.0</td>\n",
       "      <td>0.0</td>\n",
       "      <td>0.0</td>\n",
       "      <td>0.0</td>\n",
       "      <td>0.0</td>\n",
       "      <td>0.0</td>\n",
       "    </tr>\n",
       "    <tr>\n",
       "      <th>4</th>\n",
       "      <td>0.0</td>\n",
       "      <td>0.0</td>\n",
       "      <td>0.0</td>\n",
       "      <td>0.0</td>\n",
       "      <td>0.0</td>\n",
       "      <td>0.0</td>\n",
       "      <td>0.0</td>\n",
       "      <td>0.0</td>\n",
       "      <td>0.0</td>\n",
       "      <td>0.0</td>\n",
       "      <td>...</td>\n",
       "      <td>0.0</td>\n",
       "      <td>0.0</td>\n",
       "      <td>0.0</td>\n",
       "      <td>0.0</td>\n",
       "      <td>0.0</td>\n",
       "      <td>0.0</td>\n",
       "      <td>0.0</td>\n",
       "      <td>0.0</td>\n",
       "      <td>0.0</td>\n",
       "      <td>0.0</td>\n",
       "    </tr>\n",
       "  </tbody>\n",
       "</table>\n",
       "<p>5 rows × 53491 columns</p>\n",
       "</div>"
      ],
      "text/plain": [
       "    aa  aache  aachie  aadfi  aafp  aagiza  aagize  aagwa  aaisa  aakia  ...  \\\n",
       "0  0.0    0.0     0.0    0.0   0.0     0.0     0.0    0.0    0.0    0.0  ...   \n",
       "1  0.0    0.0     0.0    0.0   0.0     0.0     0.0    0.0    0.0    0.0  ...   \n",
       "2  0.0    0.0     0.0    0.0   0.0     0.0     0.0    0.0    0.0    0.0  ...   \n",
       "3  0.0    0.0     0.0    0.0   0.0     0.0     0.0    0.0    0.0    0.0  ...   \n",
       "4  0.0    0.0     0.0    0.0   0.0     0.0     0.0    0.0    0.0    0.0  ...   \n",
       "\n",
       "   zungsong  zungu  zunguka  zungulicha  zuri  zuriamesema  zuzu  zuzuamesema  \\\n",
       "0       0.0    0.0      0.0         0.0   0.0          0.0   0.0          0.0   \n",
       "1       0.0    0.0      0.0         0.0   0.0          0.0   0.0          0.0   \n",
       "2       0.0    0.0      0.0         0.0   0.0          0.0   0.0          0.0   \n",
       "3       0.0    0.0      0.0         0.0   0.0          0.0   0.0          0.0   \n",
       "4       0.0    0.0      0.0         0.0   0.0          0.0   0.0          0.0   \n",
       "\n",
       "   zwa  ùkuaji  \n",
       "0  0.0     0.0  \n",
       "1  0.0     0.0  \n",
       "2  0.0     0.0  \n",
       "3  0.0     0.0  \n",
       "4  0.0     0.0  \n",
       "\n",
       "[5 rows x 53491 columns]"
      ]
     },
     "execution_count": 33,
     "metadata": {},
     "output_type": "execute_result"
    }
   ],
   "source": [
    "\n",
    "# Collect the features names\n",
    "cv_feature_names = count_vectorizer.get_feature_names_out()\n",
    "\n",
    "# create dataframe for the transformed data using pandas\n",
    "\n",
    "tfidf_data_df = pd.DataFrame(tfidf_data.toarray(),\n",
    "                             columns=list(cv_feature_names))\n",
    "\n",
    "# show top 5 rows using head method from pandas\n",
    "tfidf_data_df.head()\n",
    "\n"
   ]
  },
  {
   "cell_type": "code",
   "execution_count": 34,
   "id": "bfc690d5",
   "metadata": {
    "ExecuteTime": {
     "end_time": "2023-05-25T20:26:41.125486Z",
     "start_time": "2023-05-25T20:26:41.122749Z"
    }
   },
   "outputs": [
    {
     "data": {
      "text/plain": [
       "(2000, 53491)"
      ]
     },
     "execution_count": 34,
     "metadata": {},
     "output_type": "execute_result"
    }
   ],
   "source": [
    "# check the shape of the transformed dataset\n",
    "\n",
    "tfidf_data_df.shape \n"
   ]
  },
  {
   "cell_type": "code",
   "execution_count": null,
   "id": "d4f66efe",
   "metadata": {},
   "outputs": [],
   "source": []
  },
  {
   "cell_type": "code",
   "execution_count": null,
   "id": "3a859151",
   "metadata": {},
   "outputs": [],
   "source": []
  }
 ],
 "metadata": {
  "hide_input": false,
  "kernelspec": {
   "display_name": "Python 3 (ipykernel)",
   "language": "python",
   "name": "python3"
  },
  "language_info": {
   "codemirror_mode": {
    "name": "ipython",
    "version": 3
   },
   "file_extension": ".py",
   "mimetype": "text/x-python",
   "name": "python",
   "nbconvert_exporter": "python",
   "pygments_lexer": "ipython3",
   "version": "3.11.4"
  },
  "toc": {
   "base_numbering": 1,
   "nav_menu": {},
   "number_sections": true,
   "sideBar": true,
   "skip_h1_title": false,
   "title_cell": "Table of Contents",
   "title_sidebar": "Contents",
   "toc_cell": false,
   "toc_position": {},
   "toc_section_display": true,
   "toc_window_display": false
  }
 },
 "nbformat": 4,
 "nbformat_minor": 5
}
